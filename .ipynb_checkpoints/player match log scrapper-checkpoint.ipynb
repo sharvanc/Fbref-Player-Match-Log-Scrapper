{
 "cells": [
  {
   "cell_type": "code",
   "execution_count": 39,
   "metadata": {},
   "outputs": [],
   "source": [
    "import requests\n",
    "import io\n",
    "import re\n",
    "from bs4 import BeautifulSoup\n",
    "import pandas as pd\n",
    "urls = ['https://fbref.com/en/squads/a2d435b3/Leicester-City', 'https://fbref.com/en/squads/47c64c55/Crystal-Palace', 'https://fbref.com/en/squads/822bd0ba/Liverpool', 'https://fbref.com/en/squads/b8fd03ef/Manchester-City', 'https://fbref.com/en/squads/cff3d9bb/Chelsea', 'https://fbref.com/en/squads/19538871/Manchester-United', 'https://fbref.com/en/squads/8cec06e1/Wolverhampton-Wanderers', 'https://fbref.com/en/squads/1df6b87e/Sheffield-United', 'https://fbref.com/en/squads/361ca564/Tottenham-Hotspur', 'https://fbref.com/en/squads/18bb7c10/Arsenal', 'https://fbref.com/en/squads/943e8050/Burnley', 'https://fbref.com/en/squads/d3fd31cc/Everton', 'https://fbref.com/en/squads/b2b47a98/Newcastle-United', 'https://fbref.com/en/squads/33c895d4/Southampton', 'https://fbref.com/en/squads/d07537b9/Brighton--Hove-Albion', 'https://fbref.com/en/squads/7c21e445/West-Ham-United', 'https://fbref.com/en/squads/2abfe087/Watford', 'https://fbref.com/en/squads/4ba7cbea/Bournemouth', 'https://fbref.com/en/squads/8602292d/Aston-Villa', 'https://fbref.com/en/squads/1c781004/Norwich-City']\n",
    "\n"
   ]
  },
  {
   "cell_type": "code",
   "execution_count": 42,
   "metadata": {},
   "outputs": [
    {
     "name": "stdout",
     "output_type": "stream",
     "text": [
      "Jamie Vardy\n",
      "https://fbref.com/en/players/45963054/matchlogs/2019-2020/Jamie-Vardy-Match-Logs\n",
      "Kelechi Iheanacho\n",
      "https://fbref.com/en/players/c92e1a31/matchlogs/2019-2020/Kelechi-Iheanacho-Match-Logs\n"
     ]
    }
   ],
   "source": [
    "#for url in urls:\n",
    "response = requests.get(urls[0])\n",
    "soup = BeautifulSoup(response.content, 'html.parser')\n",
    "table = soup.find_all('table', id = 'stats_standard_ks_3232')\n",
    "table = table[0]\n",
    "    \n",
    "for row in table.find_all('tr'):\n",
    "    position = row.find_all(\"td\", {\"data-stat\" : \"position\"})\n",
    "    for pos in position:\n",
    "        if (pos.text == 'FW'):\n",
    "            playername = row.find(\"th\", {\"data-stat\" : \"player\"}).text\n",
    "            url2 = 'https://fbref.com'+row.find_all('a', attrs={'href': re.compile(\"/en/players\")})[1].get('href')\n",
    "    \n",
    "            print(playername)\n",
    "            print (url2)\n",
    "        \n",
    "            "
   ]
  },
  {
   "cell_type": "code",
   "execution_count": null,
   "metadata": {},
   "outputs": [],
   "source": []
  }
 ],
 "metadata": {
  "kernelspec": {
   "display_name": "Python 3",
   "language": "python",
   "name": "python3"
  },
  "language_info": {
   "codemirror_mode": {
    "name": "ipython",
    "version": 3
   },
   "file_extension": ".py",
   "mimetype": "text/x-python",
   "name": "python",
   "nbconvert_exporter": "python",
   "pygments_lexer": "ipython3",
   "version": "3.7.4"
  }
 },
 "nbformat": 4,
 "nbformat_minor": 2
}
